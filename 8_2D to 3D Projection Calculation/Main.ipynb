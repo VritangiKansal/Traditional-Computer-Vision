{
 "cells": [
  {
   "cell_type": "code",
   "execution_count": 1,
   "id": "45c4a43a",
   "metadata": {},
   "outputs": [],
   "source": [
    "import numpy as np\n",
    "from matplotlib import pyplot as plt"
   ]
  },
  {
   "cell_type": "markdown",
   "id": "92917c5c",
   "metadata": {},
   "source": [
    "Q1. Load the 100 pairs of corresponding 2-D and 3-D points in the files 2Dpoints.txt and\n",
    "3Dpoints.txt (the i\n",
    "th row of both files corresponds to the i\n",
    "th point). Use these point\n",
    "correspondences to solve (using Eigen-analysis) for the camera matrix P (whose\n",
    "rasterized vector p has a unit L2 norm). [5 pts]"
   ]
  },
  {
   "cell_type": "code",
   "execution_count": 2,
   "id": "3ee903dc",
   "metadata": {},
   "outputs": [],
   "source": [
    "# Load up the Points\n",
    "\n",
    "x = np.loadtxt('2Dpoints.txt')\n",
    "X = np.loadtxt('3Dpoints.txt')"
   ]
  },
  {
   "cell_type": "code",
   "execution_count": 3,
   "id": "41b15ad2",
   "metadata": {},
   "outputs": [],
   "source": [
    "t1 = np.zeros((2*len(X), 4))\n",
    "t2 = np.zeros((2*len(X), 4))\n",
    "b = np.zeros((2*len(X), 4))\n",
    "for i in range(len(X)):\n",
    "    xi, yi = x[i]\n",
    "    t1[i*2] = np.hstack((X[i], [1]))\n",
    "    t2[i*2+1] = np.hstack((X[i], [1]))\n",
    "    b[i*2] = np.hstack((-xi*X[i], [-xi]))\n",
    "    b[i*2+1] = np.hstack((-yi*X[i], [-yi]))"
   ]
  },
  {
   "cell_type": "code",
   "execution_count": 4,
   "id": "9b07a625",
   "metadata": {},
   "outputs": [],
   "source": [
    "# Create the linear system of equations that give us our projection matrix\n",
    "A = np.hstack((t1, t2, b))\n",
    "\n",
    "# Solve the system\n",
    "ew, ev = np.linalg.eig(A.T @ A)"
   ]
  },
  {
   "cell_type": "code",
   "execution_count": 5,
   "id": "81965064",
   "metadata": {},
   "outputs": [
    {
     "data": {
      "text/plain": [
       "1.0"
      ]
     },
     "execution_count": 5,
     "metadata": {},
     "output_type": "execute_result"
    }
   ],
   "source": [
    "# Get the minimum eigenvector\n",
    "P = ev[:,np.argmin(ew)]\n",
    "P /= np.linalg.norm(P)\n",
    "\n",
    "# Ensure the norm is 1\n",
    "np.linalg.norm(P)"
   ]
  },
  {
   "cell_type": "code",
   "execution_count": 6,
   "id": "7b6ac820",
   "metadata": {},
   "outputs": [
    {
     "data": {
      "text/plain": [
       "array([[ 2.12332233e-03,  2.03512840e-03,  1.66864015e-03,\n",
       "        -9.12325899e-01],\n",
       "       [-6.18905148e-04,  1.38206141e-04,  2.75869127e-03,\n",
       "        -4.09440543e-01],\n",
       "       [ 4.24761658e-06, -2.12814438e-06,  3.68283491e-06,\n",
       "        -6.69692175e-04]])"
      ]
     },
     "execution_count": 6,
     "metadata": {},
     "output_type": "execute_result"
    }
   ],
   "source": [
    "# Rasterize our matrix to get camera\n",
    "P = P.reshape((3, 4))\n",
    "P"
   ]
  },
  {
   "cell_type": "markdown",
   "id": "202610fb",
   "metadata": {},
   "source": [
    "Q2. Given the computed matrix P (from Problem 1), project the 3-D homogeneous points\n",
    "(Xi,Yi,Zi,1) to 2-D. Compute the sum-of-squared error (sum-of-squared Euclidean\n",
    "distances) between the resulting 3-D-to-2-D projected points and the given 2-D points\n",
    "(ensure all 2-D points are inhomogeneous). [3 pts]"
   ]
  },
  {
   "cell_type": "code",
   "execution_count": 8,
   "id": "cd633755",
   "metadata": {},
   "outputs": [
    {
     "data": {
      "text/plain": [
       "array([[455.11725108, 218.94242829],\n",
       "       [ 30.13364263, 120.16648793],\n",
       "       [267.03237353, 197.21700278],\n",
       "       [367.09018557, 270.88610623],\n",
       "       [438.16133767, 407.03115652],\n",
       "       [271.56541273, 297.53342645]])"
      ]
     },
     "execution_count": 8,
     "metadata": {},
     "output_type": "execute_result"
    }
   ],
   "source": [
    "out_proj = (P @ np.hstack((X, np.ones((len(X),1)))).T).T\n",
    "\n",
    "\n",
    "out_proj[:,0] = out_proj[:,0] / out_proj[:,2]\n",
    "out_proj[:,1] = out_proj[:,1] / out_proj[:,2]\n",
    "\n",
    "out_proj[0:6,0:2]"
   ]
  },
  {
   "cell_type": "code",
   "execution_count": 9,
   "id": "665587af",
   "metadata": {},
   "outputs": [],
   "source": [
    "out_x, out_y = out_proj[:,0], out_proj[:,1]\n",
    "\n",
    "in_x, in_y = x[:,0], x[:,1]"
   ]
  },
  {
   "cell_type": "code",
   "execution_count": 10,
   "id": "bc09b9d6",
   "metadata": {},
   "outputs": [
    {
     "data": {
      "text/plain": [
       "18.745910586122346"
      ]
     },
     "execution_count": 10,
     "metadata": {},
     "output_type": "execute_result"
    }
   ],
   "source": [
    "# calculate sum of squared error\n",
    "\n",
    "\n",
    "ssqe = np.sum((in_x - out_x)**2 + (in_y - out_y)**2)\n",
    "\n",
    "ssqe"
   ]
  },
  {
   "cell_type": "markdown",
   "id": "71f977db",
   "metadata": {},
   "source": [
    "Notes: We can see that our projected 2D points are slightly off from our original. However we also see some points are so far away that it makes no sense interms of the input domain space. I hypothesize that if we are able to clamp the output to the same space as our input, we might be able to improve our squared error, but how much this would impact the semantics of our operation is unknown."
   ]
  },
  {
   "cell_type": "markdown",
   "id": "d5dd7a63",
   "metadata": {},
   "source": [
    "3) The file homography.txt contains 15 corresponding 2-D points from two different\n",
    "images, where the first and second columns correspond to the x and y coordinates of\n",
    "the points in the first image and the third and fourth columns correspond to the x and\n",
    "y coordinates of the points in the second image. Load the 2-D point sets and use the\n",
    "Normalized Direct Linear Transformation algorithm to compute the final\n",
    "homography H that maps the original points from image 1 to image 2 (i.e., make sure\n",
    "P2 = HP1). [5 pts]"
   ]
  },
  {
   "cell_type": "code",
   "execution_count": 11,
   "id": "d7a99d5f",
   "metadata": {},
   "outputs": [],
   "source": [
    "def fileprocess(s):\n",
    "    im1, im2 = [], []\n",
    "    with open(s) as file:\n",
    "        for line in file:\n",
    "            a, b, c, d = line.split(',')\n",
    "            im1.append([float(a),float(b)])\n",
    "            im2.append([float(c),float(d)])\n",
    "    return im1,im2"
   ]
  },
  {
   "cell_type": "code",
   "execution_count": 12,
   "id": "a1eccf5c",
   "metadata": {},
   "outputs": [],
   "source": [
    "img1, img2 = fileprocess('homography.txt')\n",
    "img1, img2 = np.array(img1), np.array(img2)"
   ]
  },
  {
   "cell_type": "code",
   "execution_count": 13,
   "id": "b06c5876",
   "metadata": {},
   "outputs": [],
   "source": [
    "def computeTransform(img):\n",
    "    x = img[:,0]\n",
    "    y = img[:,1]\n",
    "\n",
    "    T = np.zeros((3,3))\n",
    "    \n",
    "    s = np.sqrt(2)/ np.mean(np.sqrt((x-x.mean())**2 + (y-y.mean())**2))\n",
    "    \n",
    "    T[0] = np.array([s, 0, -s*x.mean()])\n",
    "    T[1] = np.array([0, s, -s*y.mean()])\n",
    "    T[2] = np.array([0, 0, 1])\n",
    "    \n",
    "    return T, s"
   ]
  },
  {
   "cell_type": "code",
   "execution_count": 14,
   "id": "16f3ec50",
   "metadata": {},
   "outputs": [],
   "source": [
    "Ta, s1 = computeTransform(img1)\n",
    "Tb, s2 = computeTransform(img2)"
   ]
  },
  {
   "cell_type": "code",
   "execution_count": 15,
   "id": "0d8c60ae",
   "metadata": {},
   "outputs": [],
   "source": [
    "def normalize(img, s):\n",
    "    img2 = np.zeros(img.shape)\n",
    "    x = img[:,0]\n",
    "    y = img[:,1]\n",
    "    x = img[:,0] - img[:,0].mean()\n",
    "    y = img[:,1] - img[:,1].mean()\n",
    "    img2[:,0] = s*x\n",
    "    img2[:,1] = s*y\n",
    "    \n",
    "    return img2"
   ]
  },
  {
   "cell_type": "code",
   "execution_count": 16,
   "id": "7bd1d73f",
   "metadata": {},
   "outputs": [],
   "source": [
    "img1_n = normalize(img1, s1)\n",
    "img2_n = normalize(img2, s2)"
   ]
  },
  {
   "cell_type": "code",
   "execution_count": 17,
   "id": "1ae5a952",
   "metadata": {},
   "outputs": [],
   "source": [
    "x1 = img1_n[:,0]\n",
    "y1 = img1_n[:,1]\n",
    "\n",
    "x2 = img2_n[:,0]\n",
    "y2 = img2_n[:,1]\n"
   ]
  },
  {
   "cell_type": "code",
   "execution_count": 18,
   "id": "5a43beac",
   "metadata": {},
   "outputs": [],
   "source": [
    "\n",
    "ht1 = np.zeros((2*len(x1), 3))\n",
    "ht2 = np.zeros((2*len(x1), 3))\n",
    "ht3 = np.zeros((2*len(x1), 3))\n",
    "for i in range(len(x1)):\n",
    "    ht1[i*2] = np.hstack((x1[i], y1[i], 1))\n",
    "    ht2[i*2+1] = np.hstack((x1[i], y1[i], 1))\n",
    "    ht3[i*2] = np.hstack((-x2[i]*x1[i], -y1[i]*x2[i], -x2[i]))\n",
    "    ht3[i*2+1] = np.hstack((-y2[i]*x1[i], -y1[i]*y2[i], -y2[i]))"
   ]
  },
  {
   "cell_type": "code",
   "execution_count": 19,
   "id": "1cd8acb2",
   "metadata": {},
   "outputs": [],
   "source": [
    "AH_bar = np.hstack((ht1, ht2, ht3))\n",
    "ew2, ev2 = np.linalg.eig(AH_bar.T @ AH_bar)\n",
    "H_bar = ev2[:,np.argmin(ew2)]\n",
    "H_bar /= np.linalg.norm(H_bar)\n",
    "np.linalg.norm(H_bar)\n",
    "H_bar = H_bar.reshape((3,3))"
   ]
  },
  {
   "cell_type": "code",
   "execution_count": 20,
   "id": "88f46a5b",
   "metadata": {},
   "outputs": [],
   "source": [
    "H = np.linalg.inv(Tb).dot(H_bar).dot(Ta)\n",
    "\n",
    "img2_proj = (H.dot(np.hstack((img1, np.ones((len(img1),1)))).T)).T\n",
    "img2_proj[:,0] = img2_proj[:,0]/img2_proj[:,2]\n",
    "img2_proj[:,1] = img2_proj[:,1]/img2_proj[:,2]"
   ]
  },
  {
   "cell_type": "markdown",
   "id": "a924286c",
   "metadata": {},
   "source": [
    "4) Plot the points from image 2 and the projected points from image 1 on the same plot.\n",
    "Make sure the projected points are converted into inhomogeneous form. [1 pt]"
   ]
  },
  {
   "cell_type": "code",
   "execution_count": 21,
   "id": "54f93b8b",
   "metadata": {},
   "outputs": [
    {
     "name": "stderr",
     "output_type": "stream",
     "text": [
      "/var/folders/g0/t9616xxs54ncnrvykvjfnqdc0000gn/T/ipykernel_1586/2480876632.py:3: UserWarning: You passed a edgecolor/edgecolors ('none') for an unfilled marker ('x').  Matplotlib is ignoring the edgecolor in favor of the facecolor.  This behavior may change in the future.\n",
      "  ax.scatter(img2[:,0], img2[:,1], alpha=0.8, c='red', edgecolors='none', s=45, label='Original', marker='x')\n"
     ]
    },
    {
     "data": {
      "image/png": "[encoded data removed]",
      "text/plain": [
       "<Figure size 640x480 with 1 Axes>"
      ]
     },
     "metadata": {},
     "output_type": "display_data"
    }
   ],
   "source": [
    "fig = plt.figure()\n",
    "ax = fig.add_subplot(1, 1, 1)\n",
    "ax.scatter(img2[:,0], img2[:,1], alpha=0.8, c='red', edgecolors='none', s=45, label='Original', marker='x')\n",
    "ax.scatter(img2_proj[:,0], img2_proj[:,1], alpha=0.8, c='green', edgecolors='none', s=30, label='Projected', marker='D')\n",
    "#ax.scatter(solnmx[:,0], solnmx[:,1], alpha=0.8, c='green', edgecolors='none', s=30, label='Projected')\n",
    "plt.title('Points comparision')\n",
    "plt.legend(loc=2)\n",
    "plt.show()\n"
   ]
  },
  {
   "cell_type": "markdown",
   "id": "d018645e",
   "metadata": {},
   "source": [
    "We can notice that the Projected points follow similar trends to our original, just slightly off. I'd hypothesize that instead of doing a DLT if we perform a Least Squares fit, we could improve it slightly, while we're at it, we can compare the results from various other numerical methods for solving GLIS to see which works best."
   ]
  },
  {
   "cell_type": "markdown",
   "id": "d3b858eb",
   "metadata": {},
   "source": [
    "5) Compute the sum-of-squared error (sum-of-squared Euclidean distances) between the\n",
    "actual points from image 2 and the projected points from image 1. [2 pts]"
   ]
  },
  {
   "cell_type": "code",
   "execution_count": 22,
   "id": "475a7216",
   "metadata": {},
   "outputs": [],
   "source": [
    "orig_x = img2[:,0]\n",
    "orig_y = img2[:,1]\n",
    "\n",
    "proj_x = img2_proj[:,0]\n",
    "#proj_x = solnmx[:,0]\n",
    "proj_y = img2_proj[:,1]\n",
    "#proj_y = solnmx[:,1]"
   ]
  },
  {
   "cell_type": "code",
   "execution_count": 23,
   "id": "84b3b6e4",
   "metadata": {},
   "outputs": [
    {
     "data": {
      "text/plain": [
       "105.9738792693927"
      ]
     },
     "execution_count": 23,
     "metadata": {},
     "output_type": "execute_result"
    }
   ],
   "source": [
    "ssqe2 = np.sum((orig_x - proj_x)**2 + (orig_y - proj_y)**2)\n",
    "ssqe2"
   ]
  }
 ],
 "metadata": {
  "kernelspec": {
   "display_name": "Python 3 (ipykernel)",
   "language": "python",
   "name": "python3"
  },
  "language_info": {
   "codemirror_mode": {
    "name": "ipython",
    "version": 3
   },
   "file_extension": ".py",
   "mimetype": "text/x-python",
   "name": "python",
   "nbconvert_exporter": "python",
   "pygments_lexer": "ipython3",
   "version": "3.10.6"
  }
 },
 "nbformat": 4,
 "nbformat_minor": 5
}
